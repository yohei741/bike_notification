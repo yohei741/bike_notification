{
 "cells": [
  {
   "cell_type": "code",
   "execution_count": 79,
   "metadata": {},
   "outputs": [],
   "source": [
    "from selenium import webdriver\n",
    "from PIL import Image"
   ]
  },
  {
   "cell_type": "code",
   "execution_count": 80,
   "metadata": {},
   "outputs": [],
   "source": [
    "# ログイン画面を立ち上げ\n",
    "browser = webdriver.Chrome(\"/Users/miyatayouhei/ドキュメント/my_development/bike_notification/chromedriver\")\n",
    "browser.get(\"https://www.e-license.jp/el25/?abc=LAtcyKgwukI%2BbrGQYS%2B1OA%3D%3D&senisakiCd=5\")\n",
    "# browser.quit()"
   ]
  },
  {
   "cell_type": "code",
   "execution_count": 81,
   "metadata": {},
   "outputs": [],
   "source": [
    "# ログイン情報を入力\n",
    "elem_username = browser.find_element_by_id(\"m01a_b_studentId\")\n",
    "elem_username.send_keys(\"5647\")\n",
    "elem_pw = browser.find_element_by_name(\"b.password\")\n",
    "elem_pw.send_keys(\"850917\")\n",
    "\n",
    "# ログインボタンを押下\n",
    "elem_login_btn = browser.find_element_by_id(\"m01a_login\")\n",
    "elem_login_btn.click()\n",
    "\n",
    "# 技能予約ページへ遷移\n",
    "elem_serve_page = browser.find_element_by_link_text(\"技能予約\")\n",
    "elem_serve_page.click()"
   ]
  },
  {
   "cell_type": "code",
   "execution_count": 82,
   "metadata": {},
   "outputs": [
    {
     "data": {
      "text/plain": [
       "0"
      ]
     },
     "execution_count": 82,
     "metadata": {},
     "output_type": "execute_result"
    }
   ],
   "source": [
    "elems_text = browser.page_source\n",
    "elems_text.count(\"OX\")"
   ]
  },
  {
   "cell_type": "code",
   "execution_count": null,
   "metadata": {},
   "outputs": [],
   "source": [
    "# 「OX」or「XO」をみつける"
   ]
  },
  {
   "cell_type": "code",
   "execution_count": 75,
   "metadata": {},
   "outputs": [
    {
     "data": {
      "text/plain": [
       "'<html><head>\\n\\t<meta http-equiv=\"Content-Type\" content=\"text/html; charset=Shift_JIS\">\\n\\t<meta name=\"viewport\" content=\"width=device-width, initial-scale=1.0, user-scalable=yes\">\\n\\t<link rel=\"stylesheet\" href=\"/30160001/css/mobile.css\" type=\"text/css\">\\n\\t<title>技能予約(週)</title>\\n</head>\\n<body>\\n\\t<hr class=\"header\">\\n\\t<center>\\n\\t\\t<font class=\"headerTitle\">技能予約</font>\\n\\t</center>\\n\\t<hr class=\"header\">\\n\\t\\n\\n\\n\\n\\n<form id=\"m03a\" name=\"m03a\" action=\"/el25/mobile/m03a.action\" method=\"post\">\\n\\t<br>\\n\\t<font class=\"error\"></font>\\n\\t\\t普二２の予約<br><br>\\n\\t\\t\\n\\t\\t指導員名<br>\\n\\t\\t└なし<br><br>\\n\\t\\t\\n\\t\\t\\n\\t\\t\\n\\t\\t前週&nbsp;|&nbsp;\\n\\t\\t\\n\\t\\t\\n\\t\\t次週<br><br>\\n\\t\\t\\n\\t\\t\\t\\n\\t\\t\\t<a href=\"/el25/mobile/m03a.action?b.schoolCd=LAtcyKgwukI%2BbrGQYS%2B1OA%3D%3D&amp;b.carModelCd=1302&amp;b.instructorCd=0&amp;b.dateInformationType=20200922&amp;b.page=1&amp;b.instructorTypeCd=0&amp;b.groupCd=1&amp;b.processCd=V&amp;b.kamokuCd=0&amp;dumy=1600760478195&amp;b.nominationInstructorCd=0\">09月22日(火)</a><br>\\n\\t\\t\\t---- ---- --XX-<br>\\n\\t\\t\\n\\t\\t\\t\\n\\t\\t\\t<a href=\"/el25/mobile/m03a.action?b.schoolCd=LAtcyKgwukI%2BbrGQYS%2B1OA%3D%3D&amp;b.carModelCd=1302&amp;b.instructorCd=0&amp;b.dateInformationType=20200923&amp;b.page=1&amp;b.instructorTypeCd=0&amp;b.groupCd=1&amp;b.processCd=V&amp;b.kamokuCd=0&amp;dumy=1600760478195&amp;b.nominationInstructorCd=0\">09月23日(水)</a><br>\\n\\t\\t\\tXXXX XXXX XXXXX<br>\\n\\t\\t\\n\\t\\t\\t\\n\\t\\t\\t<a href=\"/el25/mobile/m03a.action?b.schoolCd=LAtcyKgwukI%2BbrGQYS%2B1OA%3D%3D&amp;b.carModelCd=1302&amp;b.instructorCd=0&amp;b.dateInformationType=20200924&amp;b.page=1&amp;b.instructorTypeCd=0&amp;b.groupCd=1&amp;b.processCd=V&amp;b.kamokuCd=0&amp;dumy=1600760478211&amp;b.nominationInstructorCd=0\">09月24日(木)</a><br>\\n\\t\\t\\tXXXX XXXX XXXXX<br>\\n\\t\\t\\n\\t\\t\\t\\n\\t\\t\\t<a href=\"/el25/mobile/m03a.action?b.schoolCd=LAtcyKgwukI%2BbrGQYS%2B1OA%3D%3D&amp;b.carModelCd=1302&amp;b.instructorCd=0&amp;b.dateInformationType=20200925&amp;b.page=1&amp;b.instructorTypeCd=0&amp;b.groupCd=1&amp;b.processCd=V&amp;b.kamokuCd=0&amp;dumy=1600760478211&amp;b.nominationInstructorCd=0\">09月25日(金)</a><br>\\n\\t\\t\\tXXXX XXXX XXXXX<br>\\n\\t\\t\\n\\t\\t\\t\\n\\t\\t\\t<a href=\"/el25/mobile/m03a.action?b.schoolCd=LAtcyKgwukI%2BbrGQYS%2B1OA%3D%3D&amp;b.carModelCd=1302&amp;b.instructorCd=0&amp;b.dateInformationType=20200926&amp;b.page=1&amp;b.instructorTypeCd=0&amp;b.groupCd=1&amp;b.processCd=V&amp;b.kamokuCd=0&amp;dumy=1600760478211&amp;b.nominationInstructorCd=0\">09月26日(土)</a><br>\\n\\t\\t\\tXXXX XXXX XXXXX<br>\\n\\t\\t\\n\\t\\t\\t\\n\\t\\t\\t<a href=\"/el25/mobile/m03a.action?b.schoolCd=LAtcyKgwukI%2BbrGQYS%2B1OA%3D%3D&amp;b.carModelCd=1302&amp;b.instructorCd=0&amp;b.dateInformationType=20200927&amp;b.page=1&amp;b.instructorTypeCd=0&amp;b.groupCd=1&amp;b.processCd=V&amp;b.kamokuCd=0&amp;dumy=1600760478211&amp;b.nominationInstructorCd=0\">09月27日(日)</a><br>\\n\\t\\t\\tXXXX XXXX XXOX-<br>\\n\\t\\t\\n\\t\\t\\t\\n\\t\\t\\t<a href=\"/el25/mobile/m03a.action?b.schoolCd=LAtcyKgwukI%2BbrGQYS%2B1OA%3D%3D&amp;b.carModelCd=1302&amp;b.instructorCd=0&amp;b.dateInformationType=20200928&amp;b.page=1&amp;b.instructorTypeCd=0&amp;b.groupCd=1&amp;b.processCd=V&amp;b.kamokuCd=0&amp;dumy=1600760478211&amp;b.nominationInstructorCd=0\">09月28日(月)</a><br>\\n\\t\\t\\tXXXX XJXX XXXXX<br>\\n\\t\\t<br>\\n\\t\\t\\n\\t\\t\\t\\n\\t\\t\\t<a href=\"/el25/mobile/m03a.action?b.schoolCd=LAtcyKgwukI%2BbrGQYS%2B1OA%3D%3D&amp;b.carModelCd=1302&amp;b.instructorCd=0&amp;b.dateInformationType=&amp;b.page=1&amp;b.instructorTypeCd=0&amp;b.groupCd=1&amp;b.processCd=O&amp;b.kamokuCd=0&amp;dumy=1600760478211&amp;b.nominationInstructorCd=0\">車種変更</a><br>\\n\\t\\t\\n\\t\\t\\n\\t\\t\\t\\n\\t\\t\\t<a href=\"/el25/mobile/m03a.action?b.schoolCd=LAtcyKgwukI%2BbrGQYS%2B1OA%3D%3D&amp;b.carModelCd=1302&amp;b.instructorCd=0&amp;b.dateInformationType=&amp;b.page=1&amp;b.instructorTypeCd=0&amp;b.groupCd=1&amp;b.processCd=P&amp;b.kamokuCd=0&amp;dumy=1600760478211&amp;b.nominationInstructorCd=0\">指名変更</a><br>\\n\\t\\t\\n\\t\\t\\n\\t\\t\\t\\n\\t\\t\\t<a href=\"/el25/mobile/m03a.action?b.schoolCd=LAtcyKgwukI%2BbrGQYS%2B1OA%3D%3D&amp;b.carModelCd=1302&amp;b.instructorCd=0&amp;b.dateInformationType=&amp;b.page=1&amp;b.instructorTypeCd=0&amp;b.groupCd=1&amp;b.processCd=FA&amp;b.kamokuCd=0&amp;dumy=1600760478211&amp;b.nominationInstructorCd=0\">ｷｬﾝｾﾙはｺﾁﾗ</a><br>\\n\\t\\t\\n\\t\\t<br>\\n\\t\\t\\n\\t\\t前週&nbsp;|&nbsp;\\n\\t\\t\\n\\t\\t次週<br><br>\\n\\t\\t<input type=\"submit\" value=\"確認メール送信\" id=\"m03a_sendMail\" name=\"method:doSendMail\">\\n<br><br>\\n\\t\\t\\n\\t\\t<a href=\"/el25/mobile/m03a.action?b.schoolCd=LAtcyKgwukI%2BbrGQYS%2B1OA%3D%3D&amp;b.carModelCd=1302&amp;b.instructorCd=0&amp;b.dateInformationType=&amp;b.page=1&amp;b.instructorTypeCd=0&amp;b.groupCd=1&amp;b.processCd=R&amp;b.kamokuCd=0&amp;dumy=1600760478211&amp;b.nominationInstructorCd=0\">戻る</a>\\n\\t<hr color=\"#DDEEFF\" style=\"color:#DDEEFF;background-color:#DDEEFF;height:2px;border:0px solid #DDEEFF;margin:0.3em 0;\" size=\"0.5\">\\n\\t\\tﾏｰｸの説明<br>\\n\\t\\t\\n\\t\\t\\t\\n\\t\\t\\t\\tJ:お手持ちの乗車予約<br>G:お手持ちの学科予約<br>K:お手持ちの検定予約<br>O:予約可能<br>X:予約不可（空き無）<br>\\n\\t\\t\\t\\n\\t\\t\\n\\t\\t\\n\\t\\t\\t\\n\\t\\t\\t<br><a href=\"/el25/mobile/m03a.action?b.schoolCd=LAtcyKgwukI%2BbrGQYS%2B1OA%3D%3D&amp;b.carModelCd=1302&amp;b.instructorCd=0&amp;b.dateInformationType=&amp;b.page=1&amp;b.instructorTypeCd=0&amp;b.groupCd=1&amp;b.processCd=S&amp;b.kamokuCd=0&amp;dumy=1600760478211&amp;b.nominationInstructorCd=0\">予約を取得するには？</a>\\n\\t\\t\\n\\t<hr color=\"#DDEEFF\" style=\"color:#DDEEFF;background-color:#DDEEFF;height:2px;border:0px solid #DDEEFF;margin:0.3em 0;\" size=\"0.5\">\\n\\t\\n\\n\\n\\n\\n\\n\\t\\n\\t\\t\\n\\t\\t[0]<a href=\"/el25/mobile/menu.action?b.schoolCd=LAtcyKgwukI%2BbrGQYS%2B1OA%3D%3D&amp;b.screenCd=M03A&amp;b.processCd=L&amp;dumy=1600760478211\" accesskey=\"0\">HOME</a><br>\\n\\t\\t\\n\\t\\n\\t\\t\\n\\t\\t[1]<a href=\"/el25/mobile/menu.action?b.schoolCd=LAtcyKgwukI%2BbrGQYS%2B1OA%3D%3D&amp;b.screenCd=M03A&amp;b.processCd=A&amp;b.kamokuCd=0&amp;dumy=1600760478211\" accesskey=\"1\">技能予約</a><br>\\n\\t\\t\\n\\t\\n\\t\\n\\t\\t\\n\\t\\t[2]<a href=\"/el25/mobile/menu.action?b.schoolCd=LAtcyKgwukI%2BbrGQYS%2B1OA%3D%3D&amp;b.screenCd=M03A&amp;b.processCd=B&amp;dumy=1600760478211\" accesskey=\"2\">予約確認</a><br>\\n\\t\\t\\n\\t\\n\\t\\n\\t\\t\\n\\t\\t[3]<a href=\"/el25/mobile/menu.action?b.schoolCd=LAtcyKgwukI%2BbrGQYS%2B1OA%3D%3D&amp;b.screenCd=M03A&amp;b.processCd=C&amp;dumy=1600760478211\" accesskey=\"3\">学科予定</a><br>\\n\\t\\t\\n\\t\\n\\t\\n\\t\\n\\t\\t\\n\\t\\t[4]<a href=\"/el25/mobile/menu.action?b.schoolCd=LAtcyKgwukI%2BbrGQYS%2B1OA%3D%3D&amp;b.screenCd=M03A&amp;b.processCd=A&amp;b.kamokuCd=1&amp;dumy=1600760478211\" accesskey=\"4\">学科予約</a><br>\\n\\t\\t\\n\\t\\n\\n\\t\\n\\n\\t\\n\\t\\n\\t\\t\\n\\t\\t[5]<a href=\"/el25/mobile/menu.action?b.schoolCd=LAtcyKgwukI%2BbrGQYS%2B1OA%3D%3D&amp;b.screenCd=M03A&amp;b.processCd=F&amp;dumy=1600760478211\" accesskey=\"5\">ｷｬﾝｾﾙ</a><br>\\n\\t\\t\\n\\t\\n\\n\\t\\n\\t\\n\\n\\t\\n\\t\\n\\n\\n\\t<input type=\"hidden\" name=\"b.schoolCd\" value=\"LAtcyKgwukI+brGQYS+1OA==\" id=\"m03a_b_schoolCd\"><input type=\"hidden\" name=\"b.carModelCd\" value=\"1302\" id=\"m03a_b_carModelCd\"><input type=\"hidden\" name=\"b.instructorCd\" value=\"0\" id=\"m03a_b_instructorCd\"><input type=\"hidden\" name=\"b.dateInformationType\" value=\"\" id=\"m03a_b_dateInformationType\"><input type=\"hidden\" name=\"b.page\" value=\"1\" id=\"m03a_b_page\"><input type=\"hidden\" name=\"b.groupCd\" value=\"1\" id=\"m03a_b_groupCd\"><input type=\"hidden\" name=\"b.kamokuCd\" value=\"0\" id=\"m03a_b_kamokuCd\">\\n</form>\\n\\n\\n\\n\\t\\n\\n<hr color=\"#DDEEFF\" style=\"color:#DDEEFF;background-color:#DDEEFF;height:2px;border:0px solid #DDEEFF;margin:0.3em 0;\" size=\"0.5\">\\n\\n<a href=\"/el25/mobile/logout.action?senisakiCd=5&amp;b.schoolCd=LAtcyKgwukI%2BbrGQYS%2B1OA%3D%3D&amp;dumy=1600760478211\">ﾛｸﾞｱｳﾄ</a>\\n\\n\\t<br><br>\\n\\t\\n<table class=\"footer\" border=\"0\" cellpadding=\"3\" cellspacing=\"0\">\\n \\t<tbody><tr>\\n \\t\\t<td class=\"footerTitle\">\\n\\t\\t\\t<font class=\"footerTitle\">powered by e-license.jp</font>\\n\\t\\t</td>\\n \\t</tr>\\n </tbody></table>\\n\\n\\n</body></html>'"
      ]
     },
     "execution_count": 75,
     "metadata": {},
     "output_type": "execute_result"
    }
   ],
   "source": [
    "elems_text"
   ]
  },
  {
   "cell_type": "code",
   "execution_count": null,
   "metadata": {},
   "outputs": [],
   "source": [
    "## LINE トークン\n",
    "# 007GbOWcPz5PiY9Ukq1MfU8Ja7XzipTwzTtBbq1z4rF"
   ]
  },
  {
   "cell_type": "code",
   "execution_count": 84,
   "metadata": {},
   "outputs": [],
   "source": [
    "# LINE通知を行う\n",
    "\n",
    "import urllib.parse\n",
    "import urllib.request\n",
    "import sys\n",
    "\n",
    "LINE_TOKEN=\"007GbOWcPz5PiY9Ukq1MfU8Ja7XzipTwzTtBbq1z4rF\"\n",
    "LINE_NOTIFY_URL=\"https://notify-api.line.me/api/notify\"\n",
    "\n",
    "def send_line_push():\n",
    "    method = \"POST\"\n",
    "    headers = {\"Authorization\": \"Bearer %s\" % LINE_TOKEN}\n",
    "    payload = {\"message\": \"技能予約に空きが出ました！\"}\n",
    "    try:\n",
    "        payload = urllib.parse.urlencode(payload).encode(\"utf-8\")\n",
    "        req = urllib.request.Request(\n",
    "            url=LINE_NOTIFY_URL, data=payload, method=method, headers=headers)\n",
    "        urllib.request.urlopen(req)\n",
    "    except Exception as e:\n",
    "        print (\"Exception Error: \", e)\n",
    "        sys.exit(1)\n"
   ]
  },
  {
   "cell_type": "code",
   "execution_count": 85,
   "metadata": {},
   "outputs": [],
   "source": [
    "# もし空き「OX or XO」があれば、LINT通知する\n",
    "if elems_text.count(\"OX\")!=0 or elems_text.count(\"XO\")!=0:\n",
    "    send_line_push()"
   ]
  },
  {
   "cell_type": "code",
   "execution_count": null,
   "metadata": {},
   "outputs": [],
   "source": [
    "# あとは10分おきに稼働するよう、Heroku設定するだけ"
   ]
  },
  {
   "cell_type": "code",
   "execution_count": 88,
   "metadata": {},
   "outputs": [
    {
     "name": "stdout",
     "output_type": "stream",
     "text": [
      "Collecting chromedriver_binary\n",
      "  Using cached chromedriver-binary-86.0.4240.22.0.tar.gz (3.6 kB)\n",
      "Building wheels for collected packages: chromedriver-binary\n",
      "  Building wheel for chromedriver-binary (setup.py) ... \u001b[?25ldone\n",
      "\u001b[?25h  Created wheel for chromedriver-binary: filename=chromedriver_binary-86.0.4240.22.0-py3-none-any.whl size=7804685 sha256=a0c00c42b1a1384cd5bc085ac60f6ea173d1f0ad77f40f3625142c5676656204\n",
      "  Stored in directory: /Users/miyatayouhei/Library/Caches/pip/wheels/f6/22/5d/338e8e95b362391fea098baee8ed4bfcec5c6a64c23fd53e55\n",
      "Successfully built chromedriver-binary\n",
      "Installing collected packages: chromedriver-binary\n",
      "Successfully installed chromedriver-binary-86.0.4240.22.0\n",
      "Note: you may need to restart the kernel to use updated packages.\n"
     ]
    }
   ],
   "source": [
    "pip install chromedriver_binary"
   ]
  },
  {
   "cell_type": "code",
   "execution_count": 89,
   "metadata": {},
   "outputs": [],
   "source": [
    "import json\n",
    "import sys\n",
    "import urllib.parse\n",
    "import urllib.request\n",
    "from selenium import webdriver\n",
    "from selenium.webdriver.chrome.options import Options\n",
    "import chromedriver_binary\n",
    "\n",
    "# ログイン画面を立ち上げ\n",
    "options = Options()\n",
    "options.add_argument('--headless')\n",
    "browser = webdriver.Chrome(options=options)\n",
    "browser.get(\"https://www.e-license.jp/el25/?abc=LAtcyKgwukI%2BbrGQYS%2B1OA%3D%3D&senisakiCd=5\")"
   ]
  },
  {
   "cell_type": "code",
   "execution_count": null,
   "metadata": {},
   "outputs": [],
   "source": []
  }
 ],
 "metadata": {
  "kernelspec": {
   "display_name": "Python 3",
   "language": "python",
   "name": "python3"
  },
  "language_info": {
   "codemirror_mode": {
    "name": "ipython",
    "version": 3
   },
   "file_extension": ".py",
   "mimetype": "text/x-python",
   "name": "python",
   "nbconvert_exporter": "python",
   "pygments_lexer": "ipython3",
   "version": "3.7.4"
  }
 },
 "nbformat": 4,
 "nbformat_minor": 2
}
